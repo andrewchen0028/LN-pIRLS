{
 "cells": [
  {
   "cell_type": "code",
   "execution_count": 6,
   "metadata": {},
   "outputs": [
    {
     "name": "stderr",
     "output_type": "stream",
     "text": [
      "   Resolving package versions...\n",
      "  No Changes to `~/Documents/LN-pIRLS/.venv/julia_env/Project.toml`\n",
      "  No Changes to `~/Documents/LN-pIRLS/.venv/julia_env/Manifest.toml`\n"
     ]
    }
   ],
   "source": [
    "from juliacall import Main as jl\n",
    "from juliacall import Pkg as jlPkg\n",
    "from juliacall import convert as jlconvert\n",
    "from matplotlib import pyplot as plt\n",
    "from random import randint\n",
    "from scipy.sparse import dok_array\n",
    "import networkx as nx\n",
    "import numpy as np\n",
    "\n",
    "jlPkg.add(\"Laplacians\")\n",
    "jl.seval(\"using Laplacians\")\n",
    "jl.seval(\"using SparseArrays\")\n",
    "\n",
    "np.set_printoptions(precision=3, suppress=True, formatter={\"float\": \"{: 0.3f}\".format})"
   ]
  },
  {
   "cell_type": "code",
   "execution_count": 4,
   "metadata": {},
   "outputs": [],
   "source": [
    "def draw_graph(G: nx.Graph, SRC: int, DST: int):\n",
    "    # Draw graph\n",
    "    D = dict(G.degree)\n",
    "    NODELIST = D.keys()\n",
    "    NODESIZE = [v * 10 for v in D.values()]\n",
    "    POS = nx.spring_layout(G)\n",
    "    LABELS = {SRC: SRC, DST: DST}\n",
    "    nx.draw(G, nodelist=NODELIST, node_size=NODESIZE, pos=POS, width=0.2, alpha=0.5)\n",
    "    nx.draw_networkx_labels(G, pos=POS, labels=LABELS, font_weight=\"bold\")\n",
    "\n",
    "    # Highlight shortest path from source to destination\n",
    "    path = nx.shortest_path(G, SRC, DST)\n",
    "    sizes = [D[node] * 10 for node in path]\n",
    "    edges = list(zip(path, path[1:]))\n",
    "    nx.draw_networkx_nodes(G, pos=POS, nodelist=path, node_size=sizes, node_color=\"r\")\n",
    "    nx.draw_networkx_edges(G, pos=POS, edgelist=edges, edge_color=\"r\")\n",
    "\n",
    "    plt.switch_backend(\"TkAgg\")\n",
    "    plt.show()\n",
    "\n",
    "\n",
    "def uncertainty_coefficient(G: nx.Graph, i: int, j: int) -> float:\n",
    "    return -((2 / G[i][j][\"c\"]) ** 2) * np.log(1 / 2)\n",
    "\n",
    "\n",
    "def fee_rate_decimal(G: nx.Graph, i: int, j: int) -> float:\n",
    "    return G[i][j][\"r\"] / 1e6\n",
    "\n",
    "\n",
    "def base_fee_satoshi(G: nx.Graph, i: int, j: int) -> float:\n",
    "    return G[i][j][\"b\"] / 1e3"
   ]
  },
  {
   "cell_type": "code",
   "execution_count": 5,
   "metadata": {},
   "outputs": [
    {
     "name": "stdout",
     "output_type": "stream",
     "text": [
      "Generated graph with 155 edges\n",
      "Source: 21\n",
      "Destination: 34\n"
     ]
    }
   ],
   "source": [
    "# NOTE: For the symmetrical case, which balance do we use?\n",
    "#       \"A\" matrix will be very different depending on local\n",
    "#       or remote balance, and we don't know which one the\n",
    "#       solver will use ahead of time.\n",
    "\n",
    "# Generate directed dual-BA graph with 1024 nodes.\n",
    "SRC: int\n",
    "DST: int\n",
    "AMT: int = 1e6\n",
    "count = 0\n",
    "while True:\n",
    "    G = nx.dual_barabasi_albert_graph(64, 2, 3, 0.5)\n",
    "    p = nx.periphery(G)\n",
    "    p = [node for node in p if G.degree[node] >= 3]\n",
    "\n",
    "    # Pick the furthest pair of nodes\n",
    "    dist = 0\n",
    "    for i, s in enumerate(p):\n",
    "        for d in p[i + 1 :]:\n",
    "            temp = nx.shortest_path_length(G, s, d)\n",
    "            if temp > dist:\n",
    "                SRC, DST, dist = s, d, temp\n",
    "    if dist >= 2:\n",
    "        break\n",
    "    if (count := count + 1) > 100:\n",
    "        raise Exception(\"dist too large\")\n",
    "\n",
    "\n",
    "# Assign edge attributes\n",
    "#  - channel capacities from 1ksat to 10BTC\n",
    "#  - balances from 0 to channel capacity\n",
    "#  - proportional fee rates from 0 to 1%\n",
    "#  - base fees from 0 to 0.01BTC\n",
    "# NOTE: Consider making these dependent on node degree\n",
    "for i, j in G.edges():\n",
    "    G[i][j][\"c\"] = randint(1e3, 1e9)\n",
    "    G[i][j][\"u\"] = randint(0, G[i][j][\"c\"])\n",
    "    G[i][j][\"r\"] = randint(0, 0.01 * 1e6)\n",
    "    G[i][j][\"b\"] = randint(0, 0.01 * 1e8)\n",
    "\n",
    "print(f\"Generated graph with {len(G.edges())} edges\")\n",
    "print(f\"Source: {SRC}\\nDestination: {DST}\")\n",
    "\n",
    "draw_graph(G, SRC, DST)"
   ]
  },
  {
   "cell_type": "code",
   "execution_count": 8,
   "metadata": {},
   "outputs": [
    {
     "name": "stdout",
     "output_type": "stream",
     "text": [
      "[[0 1 1 1 0 0 0 0 0 0 0 0 0 0 0 0 0 0 1 0 0 0 0 0 0 0 0 0 0 0 0 0 0 0 0 0\n",
      "  0 1 0 0 0 0 0 0 0 1 0 0 0 0 0 0 0 0 0 0 0 0 0 0 0 0 0 0]\n",
      " [1 0 0 0 1 0 0 0 0 0 1 0 0 0 0 0 0 0 0 0 0 0 0 1 0 0 0 0 0 0 0 0 0 0 0 0\n",
      "  1 0 1 0 0 0 0 0 0 0 1 0 0 0 0 0 0 0 0 0 0 0 0 0 0 0 0 0]\n",
      " [1 0 0 0 1 1 1 0 0 1 0 0 1 1 0 1 0 1 0 1 0 0 0 0 0 0 1 0 0 0 0 0 0 1 0 0\n",
      "  0 0 0 1 0 0 0 1 0 0 0 0 0 0 0 1 1 0 0 0 0 0 0 0 0 0 0 0]\n",
      " [1 0 0 0 1 1 1 0 0 0 0 0 0 0 0 0 0 0 1 0 0 0 0 0 0 0 1 0 1 0 1 1 0 1 0 0\n",
      "  0 0 0 0 0 1 0 0 0 0 0 0 0 0 0 0 0 0 0 1 1 0 0 0 0 0 0 0]]\n",
      "[2685.8006511801163, -8923.813511636197, 6888.827304638701, -22.49809104519803, -6177.950482131016, -1216.8141272519172, 12648.837871424, 11401.245808613863, -29304.677314125947, 40813.77370399731, -9625.594753699164, -22147.132464911083, 3178.3625823813036, -32288.97795731291, -7530.447791206028, -8326.996527014566, -1148.8555394182856, -145.99290563686728, -13354.366197820837, 62090.710425638186, -190.8532691134533, 304979.791480591, -4975.070800196321, -15535.472988273641, 17532.344253503896, -108198.51790950158, 3433.164606796751, -102954.54667122495, -15376.768524969539, 9624.928183885902, -619.656109148557, -8683.389402653353, 11136.883027654952, 2225.1586481600148, -362981.192690822, -4950.101764952632, -7831.664612236318, 28998.634200253746, -12416.298819559428, 355.4384112538417, 124054.62280612365, 45891.782268975505, -97556.04621160832, 17093.26166244531, -4908.224011406309, 2528.0202026973484, -13565.513576748814, -44518.6547571064, 120165.50064448416, -21329.52175597339, 38185.44273754553, 4708.423753668025, 9145.03655662628, 3235.4436946464907, 50568.90816482825, -4841.90660942811, -16906.367776760875, -143215.6599709465, 43397.32094799008, -2532.0292369120502, -25725.904889518508, -14720.787874597376, 177774.34982270957, 20006.253474154935]\n",
      "Residual norm: 1.073e-07\n",
      "Using greedy degree ordering. Factorization time: 0.00014400482177734375\n",
      "Factorization size: 474\n",
      "Ratio of operator edges to original edges: 1.5290322580645161\n",
      "ratio of max to min diagonal of laplacian : 10.0\n",
      "Solver build time: 0.0 seconds.\n",
      "<b, LDLi b> is 6.104381005831921e11\n",
      "PCG stopped due to small nr (norm(r)/nb) = 7.59132902040799e-14\n",
      "nb = 1.414213562373095e6\n",
      "PCG stopped after: 0.0 seconds and 15 iterations with relative error 7.59132902040799e-14.\n",
      "rho = 3.709364399533388e-13\n",
      "[-1000000.000 -0.000 -0.000 -0.000 -0.000 -0.000 -0.000 -0.000 -0.000\n",
      " -0.000 -0.000 -0.000 -0.000 -0.000 -0.000 -0.000 -0.000 -0.000 -0.000\n",
      " -0.000 -0.000 -0.000 -0.000 -0.000 -0.000 -0.000 -0.000 -0.000 -0.000\n",
      " -0.000 -0.000 -0.000 -0.000 -0.000 -0.000 -0.000 -0.000  0.000  0.000\n",
      "  0.000  0.000  0.000  0.000  0.000  0.000  0.000  0.000  0.000  0.000\n",
      "  0.000  0.000  0.000  0.000  0.000  0.000  0.000  0.000  0.000  0.000\n",
      "  0.000  0.000  0.000  0.000  1000000.000]\n"
     ]
    }
   ],
   "source": [
    "# New notation:\n",
    "#  - A: weighted adjacency matrix\n",
    "#  - b: proportional fee rate vector\n",
    "#  - C: node-edge incidence matrix\n",
    "#  - d: demand vector\n",
    "#  - f: flow vector\n",
    "\n",
    "# Initial solution with unity weighting\n",
    "A = nx.adjacency_matrix(G).tocoo()\n",
    "print(A.toarray()[0:4][0:4][0:4])\n",
    "n = G.number_of_nodes()\n",
    "d = np.zeros(n)\n",
    "d[SRC] += AMT\n",
    "d[DST] -= AMT\n",
    "i_jl = jlconvert(T=jl.Vector[jl.Int64], x=A.row + 1)\n",
    "j_jl = jlconvert(T=jl.Vector[jl.Int64], x=A.col + 1)\n",
    "v_jl = jlconvert(T=jl.Vector[jl.Float64], x=A.data)\n",
    "A = jl.SparseArrays.sparse(i_jl, j_jl, v_jl, n, n)\n",
    "\n",
    "solver = jl.Laplacians.approxchol_lap(A, verbose=True, tol=1e-12)\n",
    "x = solver(d)  # type juliacall.VectorValue\n",
    "print(x)\n",
    "\n",
    "residual_laplacians = jl.Laplacians.lap(A) * x - d\n",
    "print(f\"Residual norm: {np.linalg.norm(residual_laplacians):0.3e}\")\n",
    "\n",
    "C = nx.incidence_matrix(G, oriented=True).tocoo()\n",
    "print(np.sort((C @ C.T @ x).flatten()))"
   ]
  },
  {
   "cell_type": "code",
   "execution_count": null,
   "metadata": {},
   "outputs": [],
   "source": [
    "# Assign edge weights\n",
    "w1 = np.array([[uncertainty_coefficient(G, *tuple(edge)) for edge in G.edges()]]).T\n",
    "w2 = np.array([[base_fee_satoshi(G, *tuple(edge))] for edge in G.edges()]).T\n",
    "for e, (i, j) in enumerate(G.edges()):\n",
    "    G[i][j][\"w\"] = w1[e] ** 2 + w2[e]"
   ]
  }
 ],
 "metadata": {
  "kernelspec": {
   "display_name": ".venv",
   "language": "python",
   "name": "python3"
  },
  "language_info": {
   "codemirror_mode": {
    "name": "ipython",
    "version": 3
   },
   "file_extension": ".py",
   "mimetype": "text/x-python",
   "name": "python",
   "nbconvert_exporter": "python",
   "pygments_lexer": "ipython3",
   "version": "3.10.12"
  },
  "orig_nbformat": 4
 },
 "nbformat": 4,
 "nbformat_minor": 2
}
